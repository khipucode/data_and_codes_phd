{
  "cells": [
    {
      "cell_type": "markdown",
      "metadata": {
        "id": "view-in-github",
        "colab_type": "text"
      },
      "source": [
        "<a href=\"https://colab.research.google.com/github/khipucode/data_and_codes_phd/blob/main/4_3_conversoes_Ax_para_dBmAx_e_vice_versa.ipynb\" target=\"_parent\"><img src=\"https://colab.research.google.com/assets/colab-badge.svg\" alt=\"Open In Colab\"/></a>"
      ]
    },
    {
      "cell_type": "markdown",
      "metadata": {
        "id": "x5E1Hw_BwP9_"
      },
      "source": [
        "## Ax to dBm"
      ]
    },
    {
      "cell_type": "code",
      "source": [
        "!mkdir meus_modulos\n"
      ],
      "metadata": {
        "id": "W7E0-d3kDK8o",
        "colab": {
          "base_uri": "https://localhost:8080/"
        },
        "outputId": "64371bef-e182-4793-bac4-b18895f1dc18"
      },
      "execution_count": null,
      "outputs": [
        {
          "output_type": "stream",
          "name": "stdout",
          "text": [
            "mkdir: cannot create directory ‘meus_modulos’: File exists\n"
          ]
        }
      ]
    },
    {
      "cell_type": "code",
      "source": [
        "%%writefile meus_modulos/minha_funcao.py\n",
        "def minha_funcao():\n",
        "    print(\"Esta é minha função.\")\n"
      ],
      "metadata": {
        "id": "PAVUIKRFDywd",
        "outputId": "2926554e-e1d8-44df-eb15-139cba44e053",
        "colab": {
          "base_uri": "https://localhost:8080/"
        }
      },
      "execution_count": null,
      "outputs": [
        {
          "output_type": "stream",
          "name": "stdout",
          "text": [
            "Overwriting meus_modulos/minha_funcao.py\n"
          ]
        }
      ]
    },
    {
      "cell_type": "code",
      "execution_count": null,
      "metadata": {
        "colab": {
          "base_uri": "https://localhost:8080/"
        },
        "id": "iEoBi45BccrB",
        "outputId": "0e1e64ef-750a-4277-9881-27e161d5055a"
      },
      "outputs": [
        {
          "output_type": "stream",
          "name": "stdout",
          "text": [
            "P_dBm_pm = 23.578827727230948\n",
            "P_dBm_a = 22.179460026250407\n",
            "P_dBm_b = 24.012534771545063\n"
          ]
        }
      ],
      "source": [
        "import numpy as np\n",
        "import math as mt\n",
        "# CONVERSÃO Ax to dBm\n",
        "Vpipm = 3\n",
        "Vpimz = 2.4\n",
        "\n",
        "Apm  = 5\n",
        "Aa   = 5.32\n",
        "Ab   = 6.57\n",
        "\n",
        "Vpm   =  Apm*Vpipm/mt.pi\n",
        "Va   = Aa*Vpimz/mt.pi\n",
        "Vb  = Ab*Vpimz/mt.pi\n",
        "\n",
        "\n",
        "P_dBm_pm = 10*mt.log10(10*Vpm**2)\n",
        "P_dBm_a = 10*mt.log10(10*Va**2)\n",
        "P_dBm_b = 10*mt.log10(10*Vb**2)\n",
        "\n",
        "# flat only MZM\n",
        "# Simulado      Aa = 5   Ab = 6.57\n",
        "# Experimental  Aa = 5.28   Ab = 6.72\n",
        "\n",
        "print('P_dBm_pm =', P_dBm_pm)\n",
        "print('P_dBm_a =', P_dBm_a)\n",
        "print('P_dBm_b =', P_dBm_b)\n"
      ]
    },
    {
      "cell_type": "markdown",
      "metadata": {
        "id": "NUC9HG1TwKLX"
      },
      "source": [
        "## dBm to Ax"
      ]
    },
    {
      "cell_type": "code",
      "execution_count": null,
      "metadata": {
        "colab": {
          "base_uri": "https://localhost:8080/"
        },
        "id": "CNz-d29BYmMv",
        "outputId": "9e604f59-90e8-41ca-a053-da44e897bfaa"
      },
      "outputs": [
        {
          "output_type": "stream",
          "name": "stdout",
          "text": [
            "12.7 é Apm = 1.428988119040094\n",
            "21.18 é Aa = 4.741749761000997\n",
            "23.97 é Ab = 6.537905380459222\n",
            "Aa - Ab = -1.7961556194582249\n",
            "2.9400000000000013\n"
          ]
        }
      ],
      "source": [
        "# CONVERSÃO dBm to Ax\n",
        "\n",
        "Vpipm = 3\n",
        "Vpimz = 2.4\n",
        "\n",
        "P_dBm_pm = 12.7\n",
        "P_dBm_a = 21.18\n",
        "P_dBm_b = 23.97\n",
        "\n",
        "Apm  = mt.pi*10**((P_dBm_pm-10)/20)/Vpipm\n",
        "Aa   = mt.pi*10**((P_dBm_a-10)/20)/Vpimz\n",
        "Ab   = mt.pi*10**((P_dBm_b-10)/20)/Vpimz\n",
        "\n",
        "# flat only MZM\n",
        "# Simulado      Aa = 5   Ab = 6.57\n",
        "# Experimental  Aa = 5.28   Ab = 6.72\n",
        "\n",
        "print( P_dBm_pm ,'é Apm =', Apm)\n",
        "print(P_dBm_a,'é Aa =', Aa)\n",
        "print(P_dBm_b, 'é Ab =', Ab)\n",
        "print('Aa - Ab =', Aa - Ab)\n",
        "\n",
        "print((6.9 - 5.43)*2)"
      ]
    },
    {
      "cell_type": "markdown",
      "metadata": {
        "id": "92OXOlw9wfNq"
      },
      "source": [
        "## Vx to dBm"
      ]
    },
    {
      "cell_type": "code",
      "execution_count": null,
      "metadata": {
        "colab": {
          "base_uri": "https://localhost:8080/"
        },
        "id": "FAsFbFyV8JMZ",
        "outputId": "bae579df-8259-465a-86ed-45fed788e590"
      },
      "outputs": [
        {
          "output_type": "stream",
          "name": "stdout",
          "text": [
            "P_dBm_pm = 30.0\n",
            "P_dBm_a = 30.827853703164504\n",
            "P_dBm_b = 31.5836249209525\n"
          ]
        }
      ],
      "source": [
        "Vpm   =  10\n",
        "Va   = 11\n",
        "Vb  = 12\n",
        "\n",
        "\n",
        "P_dBm_pm = 10*mt.log10(10*Vpm**2)\n",
        "P_dBm_a = 10*mt.log10(10*Va**2)\n",
        "P_dBm_b = 10*mt.log10(10*Vb**2)\n",
        "\n",
        "# flat only MZM\n",
        "# Simulado      Aa = 5   Ab = 6.57\n",
        "# Experimental  Aa = 5.28   Ab = 6.72\n",
        "\n",
        "print('P_dBm_pm =', P_dBm_pm)\n",
        "print('P_dBm_a =', P_dBm_a)\n",
        "print('P_dBm_b =', P_dBm_b)\n",
        "\n"
      ]
    },
    {
      "cell_type": "markdown",
      "metadata": {
        "id": "DEB6zd0kw0v9"
      },
      "source": [
        "## Vx to Ax"
      ]
    },
    {
      "cell_type": "markdown",
      "source": [
        "$A_a - A_b = \\dfrac{\\pi}{2}$   \n",
        "\n",
        "\n",
        "$V_a - V_b = \\dfrac{V_\\pi}{2}$\n"
      ],
      "metadata": {
        "id": "19MFdTWtyuX_"
      }
    },
    {
      "cell_type": "code",
      "execution_count": null,
      "metadata": {
        "colab": {
          "base_uri": "https://localhost:8080/"
        },
        "id": "sJD4vG3GwGXB",
        "outputId": "4051c8ae-1a95-4aea-fd57-0325491cd4b5"
      },
      "outputs": [
        {
          "output_type": "stream",
          "name": "stdout",
          "text": [
            "V_pm = 12.0\n",
            "V_a = 10.0\n",
            "V_b = 12.0\n",
            "A_pm = 12.566370614359172\n",
            "A_a = 7.853981633974483\n",
            "A_b = 9.42477796076938\n",
            "A_a - A_b = -1.5707963267948966\n"
          ]
        }
      ],
      "source": [
        "Vpimz =  4\n",
        "\n",
        "\n",
        "Vpm   =  12\n",
        "Va    = 10\n",
        "Vb    = 12\n",
        "\n",
        "Apm   =  Vpm*mt.pi/Vpipm\n",
        "Aa   =  Va*mt.pi/Vpimz\n",
        "Ab   =  Vb*mt.pi/Vpimz\n",
        "\n",
        "\n",
        "Vpm   =  Vpipm*Apm/mt.pi\n",
        "Va   =  Vpimz*Aa/mt.pi\n",
        "Vb   =  Vpimz*Ab/mt.pi\n",
        "\n",
        "# flat only MZM\n",
        "# Simulado      Aa = 5   Ab = 6.57\n",
        "# Experimental  Aa = 5.28   Ab = 6.72\n",
        "print('V_pm =', Vpm)\n",
        "print('V_a =', Va)\n",
        "print('V_b =', Vb)\n",
        "print('A_pm =', Apm)\n",
        "print('A_a =', Aa)\n",
        "print('A_b =', Ab)\n",
        "print('A_a - A_b =', Aa-Ab)"
      ]
    }
  ],
  "metadata": {
    "colab": {
      "provenance": [],
      "authorship_tag": "ABX9TyP5AG/M32JDnJ6VBBZ8T5Mf",
      "include_colab_link": true
    },
    "kernelspec": {
      "display_name": "Python 3",
      "name": "python3"
    },
    "language_info": {
      "name": "python"
    }
  },
  "nbformat": 4,
  "nbformat_minor": 0
}